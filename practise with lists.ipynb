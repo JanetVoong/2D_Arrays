{
 "cells": [
  {
   "cell_type": "code",
   "execution_count": 1,
   "metadata": {},
   "outputs": [
    {
     "name": "stdout",
     "output_type": "stream",
     "text": [
      "[7, 10, 18, 8, 5, 17, 8, 10, 14, 16]\n"
     ]
    }
   ],
   "source": [
    "import random\n",
    "\n",
    "# for loop\n",
    "\n",
    "myList1 = []\n",
    "for i in range(10):\n",
    "    num = random.randint(1,20)\n",
    "    myList1.append(num)\n",
    "print(myList1)"
   ]
  },
  {
   "cell_type": "code",
   "execution_count": 2,
   "metadata": {},
   "outputs": [
    {
     "name": "stdout",
     "output_type": "stream",
     "text": [
      "enter a number: 8\n",
      "do you want to stop? Y/N: n\n",
      "enter a number: 4\n",
      "do you want to stop? Y/N: n\n",
      "enter a number: 87\n",
      "do you want to stop? Y/N: y\n",
      "[8, 4, 87]\n"
     ]
    }
   ],
   "source": [
    "# while loop\n",
    "myList2 = []\n",
    "stop = \"N\"\n",
    "while stop == \"N\":\n",
    "    num = int(input(\"enter a number: \"))\n",
    "    myList2.append(num)\n",
    "    stop = input(\"do you want to stop? Y/N: \").upper()\n",
    "print(myList2)"
   ]
  },
  {
   "cell_type": "code",
   "execution_count": 3,
   "metadata": {},
   "outputs": [
    {
     "name": "stdout",
     "output_type": "stream",
     "text": [
      "[[12, 4, 17, 17, 14, 3, 17, 6, 4, 11], [18, 11, 20, 15, 11, 6, 11, 3, 12, 17], [15, 1, 9, 11, 5, 11, 4, 20, 10, 18], [12, 3, 11, 12, 16, 16, 6, 1, 2, 9], [18, 7, 3, 18, 6, 1, 13, 3, 11, 15], [17, 1, 13, 12, 9, 20, 8, 19, 3, 16], [11, 6, 11, 17, 17, 18, 6, 9, 12, 5], [14, 16, 1, 5, 20, 9, 13, 16, 8, 1], [7, 8, 4, 8, 13, 8, 5, 12, 19, 8], [8, 13, 15, 15, 13, 2, 2, 15, 18, 11]]\n"
     ]
    }
   ],
   "source": [
    "import random\n",
    "\n",
    "my2DList = []\n",
    "\n",
    "for j in range(10):\n",
    "    myList = []\n",
    "    for i in range(10):\n",
    "        num = random.randint(1,20)\n",
    "        myList.append(num)\n",
    "    #print(myList)\n",
    "    my2DList.append(myList)\n",
    "print(my2DList)"
   ]
  },
  {
   "cell_type": "code",
   "execution_count": 12,
   "metadata": {},
   "outputs": [
    {
     "name": "stdout",
     "output_type": "stream",
     "text": [
      "10\t6\t19\t4\t14\t6\t20\t1\t17\t1\t\n",
      "13\t4\t10\t9\t16\t19\t2\t2\t16\t19\t\n",
      "2\t8\t13\t20\t2\t4\t16\t13\t5\t5\t\n",
      "3\t3\t10\t10\t20\t11\t4\t3\t12\t3\t\n",
      "15\t2\t20\t13\t3\t4\t5\t17\t17\t13\t\n",
      "20\t1\t13\t5\t14\t15\t10\t6\t12\t3\t\n",
      "15\t11\t11\t3\t19\t3\t4\t13\t4\t15\t\n",
      "1\t12\t20\t3\t4\t20\t10\t7\t8\t14\t\n",
      "3\t9\t20\t3\t15\t15\t2\t20\t16\t7\t\n",
      "12\t14\t20\t4\t1\t6\t9\t9\t13\t17\t\n"
     ]
    }
   ],
   "source": [
    "import random\n",
    "\n",
    "twoDListOfRandNum = []\n",
    "\n",
    "for row in range(10):\n",
    "    newRow = []\n",
    "    for col in range(10):\n",
    "        x = random.randint(1,20)\n",
    "        newRow.append(x)\n",
    "    twoDListOfRandNum.append(newRow)\n",
    "#print(twoDListOfRandNum)\n",
    "\n",
    "for row in twoDListOfRandNum:\n",
    "    for colitem in row:\n",
    "        print(colitem, end = \"\\t\")\n",
    "    print()"
   ]
  }
 ],
 "metadata": {
  "kernelspec": {
   "display_name": "Python 3",
   "language": "python",
   "name": "python3"
  },
  "language_info": {
   "codemirror_mode": {
    "name": "ipython",
    "version": 3
   },
   "file_extension": ".py",
   "mimetype": "text/x-python",
   "name": "python",
   "nbconvert_exporter": "python",
   "pygments_lexer": "ipython3",
   "version": "3.5.2"
  }
 },
 "nbformat": 4,
 "nbformat_minor": 2
}
