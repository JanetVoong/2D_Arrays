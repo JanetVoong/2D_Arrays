{
 "cells": [
  {
   "cell_type": "markdown",
   "metadata": {},
   "source": [
    "# 2D Arrays\n",
    "\n",
    "Useful for:\n",
    "- storing data in a table\n",
    "- creating board games (e.g. chess)import string\n",
    "\n",
    "Unit 1 - 2D Arrays - lesson slides: https://docs.google.com/presentation/d/1Pdcq5HunpJpIhc9HpNIcS_NkJ60vdYHhiVg0Q7dHGSw/edit#slide=id.g289c5ee09b_0_21"
   ]
  },
  {
   "cell_type": "markdown",
   "metadata": {},
   "source": [
    "## Example 1\n",
    "\n",
    "defining a 2D grid (list of lists) in Python."
   ]
  },
  {
   "cell_type": "code",
   "execution_count": 6,
   "metadata": {},
   "outputs": [
    {
     "name": "stdout",
     "output_type": "stream",
     "text": [
      "['0', '1', '2', '3', '4', '5', '6', '7', '8', '9']\n",
      "[['0', '1', '2', '3', '4', '5', '6', '7', '8', '9'], ['0', '1', '2', '3', '4', '5', '6', '7', '8', '9'], ['0', '1', '2', '3', '4', '5', '6', '7', '8', '9']]\n"
     ]
    }
   ],
   "source": [
    "import string\n",
    "#use the string module definition of digits to make a list\n",
    "nums= list(string.digits) #create a list of digits\n",
    "print(nums) #debug - see what nums is\n",
    "#start with an empty list\n",
    "grid=[]\n",
    "#append 3 lists of 10 numbers\n",
    "for i in range(3):\n",
    "    grid.append(nums)\n",
    "print(grid)  #debug - see what nums is"
   ]
  },
  {
   "cell_type": "markdown",
   "metadata": {},
   "source": [
    "## Example 2\n",
    "\n",
    "printing the elements individually - using items."
   ]
  },
  {
   "cell_type": "code",
   "execution_count": 7,
   "metadata": {},
   "outputs": [
    {
     "name": "stdout",
     "output_type": "stream",
     "text": [
      "0 1 2 3 4 5 6 7 8 9 \n",
      "0 1 2 3 4 5 6 7 8 9 \n",
      "0 1 2 3 4 5 6 7 8 9 \n"
     ]
    }
   ],
   "source": [
    "for row in grid:  # each row is a list\n",
    "    for colItem in row:\n",
    "        print (colItem, end=\" \")\n",
    "    print()"
   ]
  },
  {
   "cell_type": "markdown",
   "metadata": {},
   "source": [
    "## Example 3\n",
    "\n",
    "printing the elements individually - using 2D indices [x][y]."
   ]
  },
  {
   "cell_type": "code",
   "execution_count": 8,
   "metadata": {},
   "outputs": [
    {
     "name": "stdout",
     "output_type": "stream",
     "text": [
      "0 1 2 3 4 5 6 7 8 9 \n",
      "0 1 2 3 4 5 6 7 8 9 \n",
      "0 1 2 3 4 5 6 7 8 9 \n"
     ]
    }
   ],
   "source": [
    "for row in range(len(grid)):\n",
    "    for col in range(len(grid[row])):\n",
    "        print(grid[row][col], end=' ')\n",
    "    print()"
   ]
  },
  {
   "cell_type": "markdown",
   "metadata": {},
   "source": [
    "## Example 4"
   ]
  },
  {
   "cell_type": "code",
   "execution_count": 9,
   "metadata": {},
   "outputs": [
    {
     "name": "stdout",
     "output_type": "stream",
     "text": [
      "['j', 'j', 'j', 'j', 'j', 'j', 'j', 'j', 'j', 'j']\n",
      "['j', 'j', 'j', 'j', 'j', 'j', 'j', 'j', 'j', 'j']\n",
      "['j', 'j', 'j', 'j', 'j', 'j', 'j', 'j', 'j', 'j']\n",
      "['j', 'j', 'j', 'j', 'j', 'j', 'j', 'j', 'j', 'j']\n",
      "['j', 'j', 'j', 'j', 'j', 'j', 'j', 'j', 'j', 'j']\n",
      "['j', 'j', 'j', 'j', 'j', 'j', 'j', 'j', 'j', 'j']\n",
      "['j', 'j', 'j', 'j', 'j', 'j', 'j', 'j', 'j', 'j']\n",
      "['j', 'j', 'j', 'j', 'j', 'j', 'j', 'j', 'j', 'j']\n",
      "['j', 'j', 'j', 'j', 'j', 'j', 'j', 'j', 'j', 'j']\n",
      "['j', 'j', 'j', 'j', 'j', 'j', 'j', 'j', 'j', 'j']\n"
     ]
    }
   ],
   "source": [
    "grids = [[\"j\" for i in range(10)] for i in range(10)]\n",
    "\n",
    "for row in grids:\n",
    "    print(row)"
   ]
  },
  {
   "cell_type": "markdown",
   "metadata": {},
   "source": [
    "# Exercises\n",
    "\n",
    "1) Create a 3 x 10 grid of random numbers. Hint: first create a list of 10 random numbers. Then append these to a grid. Do this 3 times."
   ]
  },
  {
   "cell_type": "code",
   "execution_count": 10,
   "metadata": {},
   "outputs": [
    {
     "name": "stdout",
     "output_type": "stream",
     "text": [
      "2 0 5 6 9 0 5 6 9 9 \n",
      "8 7 3 0 4 3 9 0 5 7 \n",
      "5 2 5 4 1 3 1 3 6 0 \n"
     ]
    }
   ],
   "source": [
    "# inefficient method\n",
    "import string\n",
    "import random\n",
    "# do not need to import in each cell again\n",
    "# as it is already imported previously\n",
    "\n",
    "nums = list(string.digits)\n",
    "random1 = []\n",
    "random2 = []\n",
    "random3 = []\n",
    "grid = []\n",
    "\n",
    "for i in nums:\n",
    "    random1.append(random.choice(nums))\n",
    "    random2.append(random.choice(nums))\n",
    "    random3.append(random.choice(nums))\n",
    "\n",
    "for i in range(1):\n",
    "    grid.append(random1)\n",
    "    grid.append(random2)\n",
    "    grid.append(random3)\n",
    "\n",
    "for row in grid:\n",
    "    for colItem in row:\n",
    "        print (colItem, end=\" \")\n",
    "    print()"
   ]
  },
  {
   "cell_type": "code",
   "execution_count": 11,
   "metadata": {},
   "outputs": [
    {
     "name": "stdout",
     "output_type": "stream",
     "text": [
      "8 5 3 1 1 6 7 2 0 5 \n",
      "2 4 5 2 4 5 9 2 7 8 \n",
      "7 3 2 3 3 7 6 6 9 4 \n"
     ]
    }
   ],
   "source": [
    "# more efficient method\n",
    "import string\n",
    "import random\n",
    "\n",
    "nums = list(string.digits)\n",
    "grid = []\n",
    "\n",
    "for j in range(3): # number of rows\n",
    "    randomRow = [] # use less varaibles, use less memory\n",
    "    for i in range(10): # number of columns\n",
    "        randomRow.append(random.choice(nums))\n",
    "    grid.append(randomRow)\n",
    "\n",
    "\n",
    "for row in grid:\n",
    "    for colItem in row:\n",
    "        print (colItem, end=\" \")\n",
    "    print()"
   ]
  },
  {
   "cell_type": "markdown",
   "metadata": {},
   "source": [
    "2) Write new code to create a 10x10 grid of randomly placed stars (*). If a cell does not have a star it contains a space."
   ]
  },
  {
   "cell_type": "code",
   "execution_count": 12,
   "metadata": {},
   "outputs": [
    {
     "name": "stdout",
     "output_type": "stream",
     "text": [
      "* * *   *   *   * * \n",
      "  * * * * *   *     \n",
      "          * * *   * \n",
      "  * * * *           \n",
      "*   *   * *   *   * \n",
      "* * *       *       \n",
      "    *     * *   *   \n",
      "  * * * * * *   * * \n",
      "*   * * *           \n",
      "          *   *     \n"
     ]
    }
   ],
   "source": [
    "import random\n",
    "\n",
    "grid = []\n",
    "\n",
    "for j in range(10):\n",
    "    temp = []\n",
    "    for i in range(10):\n",
    "        temp.append(random.choice(['*',' ']))\n",
    "    grid.append(temp)\n",
    "    \n",
    "for row in grid:\n",
    "    for colItem in row:\n",
    "        print (colItem, end=\" \")\n",
    "    print()"
   ]
  },
  {
   "cell_type": "markdown",
   "metadata": {},
   "source": [
    "3) Create a 10x10 grid of random numbers. Calculate the:\n",
    "\n",
    "    a) sum of each row and each column."
   ]
  },
  {
   "cell_type": "code",
   "execution_count": 39,
   "metadata": {},
   "outputs": [
    {
     "name": "stdout",
     "output_type": "stream",
     "text": [
      "2 5 0 2 5 7 2 8 8 7 \n",
      "sum of row: 53\n",
      "3 6 5 7 6 7 6 4 6 7 \n",
      "sum of row: 64\n",
      "1 9 7 0 8 9 7 2 2 4 \n",
      "sum of row: 53\n",
      "1 9 7 5 1 0 1 9 1 9 \n",
      "sum of row: 52\n",
      "9 8 8 1 8 8 8 6 6 5 \n",
      "sum of row: 72\n",
      "0 4 5 0 7 9 9 4 3 1 \n",
      "sum of row: 43\n",
      "8 6 0 7 8 7 1 8 6 9 \n",
      "sum of row: 69\n",
      "4 0 6 1 6 0 3 0 6 5 \n",
      "sum of row: 36\n",
      "4 2 8 6 0 3 9 3 9 2 \n",
      "sum of row: 48\n",
      "4 9 8 9 5 8 6 4 8 9 \n",
      "sum of row: 79\n",
      "sum of each column: [46, 57, 49, 43, 67, 42, 60, 31, 46, 70]\n"
     ]
    }
   ],
   "source": [
    "import string\n",
    "import random\n",
    "\n",
    "nums = [0,1,2,3,4,5,6,7,8,9]\n",
    "grid = []\n",
    "\n",
    "for j in range(10):\n",
    "    randomRow = []\n",
    "    for i in range(10):\n",
    "        randomRow.append(random.choice(nums))\n",
    "    grid.append(randomRow)\n",
    "\n",
    "for row in grid:\n",
    "    for colItem in row:\n",
    "        print(colItem, end=\" \")\n",
    "    print()\n",
    "    print(\"sum of row:\",sum(row,colItem)) # sum of each row\n",
    "\n",
    "SumList = [sum(i) for i in grid]\n",
    "print(\"sum of each column:\",SumList)"
   ]
  },
  {
   "cell_type": "code",
   "execution_count": 5,
   "metadata": {},
   "outputs": [
    {
     "name": "stdout",
     "output_type": "stream",
     "text": [
      "8 9 6 4 6 0 3 8 1 0 \n",
      "5\n",
      "9 5 7 4 8 2 6 8 6 2 \n",
      "5\n",
      "6 2 3 9 0 4 6 2 2 5 \n",
      "5\n",
      "8 5 0 0 4 8 6 4 2 3 \n",
      "5\n",
      "1 3 3 6 5 5 4 1 6 7 \n",
      "5\n",
      "5 7 4 5 7 3 5 7 8 1 \n",
      "5\n",
      "8 3 1 1 3 1 7 7 1 0 \n",
      "5\n",
      "6 6 1 5 5 8 4 2 6 0 \n",
      "5\n",
      "1 5 1 6 1 3 9 6 6 0 \n",
      "5\n",
      "8 6 2 4 5 7 2 5 0 8 \n",
      "5\n"
     ]
    }
   ],
   "source": [
    "import string\n",
    "import random\n",
    "\n",
    "nums = [0,1,2,3,4,5,6,7,8,9]\n",
    "grid = []\n",
    "\n",
    "for j in range(10):\n",
    "    randomRow = []\n",
    "    for i in range(10):\n",
    "        randomRow.append(random.choice(nums))\n",
    "    grid.append(randomRow)\n",
    "    \n",
    "for row in grid:\n",
    "    for colItem in row:\n",
    "        print(colItem, end=\" \")\n",
    "    print()\n",
    "    print(grid[1][1])"
   ]
  },
  {
   "cell_type": "markdown",
   "metadata": {},
   "source": [
    "3) Create a 10x10 grid of random numbers. Calculate the:\n",
    "\n",
    "    b) average of each row and each column.\n",
    "    c) Total of all the cells.\n",
    "    d) Average of all the cells."
   ]
  },
  {
   "cell_type": "markdown",
   "metadata": {},
   "source": [
    "4) Create a 20x20grid of random ASCII characters. Print it out.\n",
    "\n",
    "5) Create a 20x20 grid that is a pattern - use symmetry."
   ]
  }
 ],
 "metadata": {
  "kernelspec": {
   "display_name": "Python 3",
   "language": "python",
   "name": "python3"
  },
  "language_info": {
   "codemirror_mode": {
    "name": "ipython",
    "version": 3
   },
   "file_extension": ".py",
   "mimetype": "text/x-python",
   "name": "python",
   "nbconvert_exporter": "python",
   "pygments_lexer": "ipython3",
   "version": "3.5.2"
  }
 },
 "nbformat": 4,
 "nbformat_minor": 2
}
